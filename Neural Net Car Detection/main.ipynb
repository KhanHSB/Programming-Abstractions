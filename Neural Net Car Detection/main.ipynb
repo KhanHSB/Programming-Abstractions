{
 "cells": [
  {
   "cell_type": "code",
   "execution_count": 4,
   "metadata": {},
   "outputs": [
    {
     "name": "stderr",
     "output_type": "stream",
     "text": [
      "/anaconda/anaconda3/lib/python3.6/site-packages/h5py/__init__.py:36: FutureWarning: Conversion of the second argument of issubdtype from `float` to `np.floating` is deprecated. In future, it will be treated as `np.float64 == np.dtype(float).type`.\n",
      "  from ._conv import register_converters as _register_converters\n",
      "Using TensorFlow backend.\n"
     ]
    }
   ],
   "source": [
    "#Haseeb Khan project final:\n",
    "import numpy as np\n",
    "from keras import backend as K\n",
    "from keras.models import load_model\n",
    "\n",
    "from matplotlib import pyplot as plt\n",
    "import cv2\n",
    "\n",
    "\"\"\"\n",
    "https://github.com/gbusr/YAD2K provides the base work for implementation of YOLO v2 in Keras and Tensorflow\n",
    "yad2k.py converts the YOLO's Darknet weights to Keras readable format\n",
    "\"\"\"\n",
    "from yad2k.models.keras_yolo import yolo_eval, yolo_head"
   ]
  },
  {
   "cell_type": "code",
   "execution_count": 5,
   "metadata": {},
   "outputs": [],
   "source": [
    "color = (0, 0, 255)\n",
    "model_path = 'model_data/yolo.h5'\n",
    "anchors_path = 'model_data/yolo_anchors.txt'\n",
    "classes_path = 'model_data/coco_classes.txt'"
   ]
  },
  {
   "cell_type": "code",
   "execution_count": 6,
   "metadata": {},
   "outputs": [],
   "source": [
    "# Detection Class\n",
    "class Detector:\n",
    "    # Class initialization\n",
    "    def __init__(self, model_path, classes_path, anchors_path):\n",
    "        # Open Tensorflow session\n",
    "        self.session = K.get_session()\n",
    "        \n",
    "        # Load classes\n",
    "        with open(classes_path) as f:\n",
    "            self.class_names = f.readlines()\n",
    "            self.class_names = [c.strip() for c in self.class_names]\n",
    "            \n",
    "        # Load anchors\n",
    "        with open(anchors_path) as f:\n",
    "            self.anchors = f.readline()\n",
    "            self.anchors = [float(x) for x in self.anchors.split(',')]\n",
    "            self.anchors = np.array(self.anchors).reshape(-1, 2)\n",
    "        \n",
    "        # Load model\n",
    "        self.model = load_model(model_path)\n",
    "        \n",
    "        # Check if model is fully convolutional, assuming channel last order\n",
    "        self.model_image_size = self.model.layers[0].input_shape[1:3]\n",
    "        \n",
    "        # Generate output tensor targets\n",
    "        self.input_image_shape = K.placeholder(shape = (2, ))\n",
    "        self._boxes, self._scores, self._classes = self.generate_tensor_targets(0.3, 0.5)\n",
    "        \n",
    "    # Generate output tensor targets for filtered bounding boxes\n",
    "    def generate_tensor_targets(self, score_threshold = 0.2, iou_threshold = 0.5):\n",
    "        model_outputs = yolo_head(self.model.output, self.anchors, len(self.class_names))      \n",
    "        return yolo_eval(model_outputs,\n",
    "                         self.input_image_shape,\n",
    "                         score_threshold = score_threshold,\n",
    "                         iou_threshold = iou_threshold)        \n",
    "            \n",
    "    # Resize image\n",
    "    def resize_image(self, image):\n",
    "        # Resize image\n",
    "        if self.model_image_size != (None, None):\n",
    "            # Fit to the fixed input shape\n",
    "            new_image_size = tuple(reversed(self.model_image_size))\n",
    "        else:\n",
    "            # width and height as multiples of 32.\n",
    "            new_image_size = (image.width - (image.width % 32), image.height - (image.height % 32))\n",
    "            \n",
    "        return cv2.resize(image, new_image_size)\n",
    "    \n",
    "    # Preprocess image\n",
    "    def process_image(self, filename):\n",
    "        image = cv2.imread(filename)\n",
    "        # Resize image\n",
    "        resized_image = self.resize_image(image)\n",
    "        # Convert to image to array\n",
    "        image_data = resized_image.astype(np.float32)\n",
    "        # Normalize image data\n",
    "        image_data /= 255.\n",
    "        # Add batch dimension\n",
    "        return np.expand_dims(image_data, 0), image.shape\n",
    "    \n",
    "    # Filter classes\n",
    "    def filter_classes(self, boxes, scores, classes, class_filter):\n",
    "        # If no filter\n",
    "        if len(class_filter) is 0:\n",
    "            return boxes, scores, classes\n",
    "        \n",
    "        # Filter the classes\n",
    "        out_boxes = []; out_scores = []; out_classes = []\n",
    "        for i, c in list(enumerate(classes)):\n",
    "            if self.class_names[c] in class_filter:\n",
    "                out_boxes.append(boxes[i])\n",
    "                out_scores.append(scores[i])\n",
    "                out_classes.append(classes[i])\n",
    "                \n",
    "        return out_boxes, out_scores, out_classes\n",
    "    \n",
    "    # Feed image for detection\n",
    "    def feed(self, filename, class_filter):\n",
    "        # Process image for feed\n",
    "        image_data, image_shape = self.process_image(filename)\n",
    "        # Feed image data into tensorflow\n",
    "        feed = {self.model.input: image_data,\n",
    "                self.input_image_shape: image_shape[0:2],\n",
    "                K.learning_phase(): 0}\n",
    "        # Run tensor\n",
    "        boxes, scores, classes = self.session.run([self._boxes, self._scores, self._classes],\n",
    "                                                  feed_dict = feed)\n",
    "        \n",
    "        return self.filter_classes(boxes, scores, classes, class_filter)\n",
    "    \n",
    "    # Annotate the classes\n",
    "    def annotate_image(self, filename, boxes, scores, classes):        \n",
    "        img = cv2.imread(filename)\n",
    "        for i, box in list(enumerate(boxes)):\n",
    "            class_name = self.class_names[classes[i]]\n",
    "            # Select annotation color\n",
    "            #Cars qualify as high tensile collision objects so are boxed in red\n",
    "            if class_name == 'car':\n",
    "                color = (0, 0, 255)\n",
    "            #Person qualify as low tensile high value collision objects so are boxed in green\n",
    "            elif class_name == 'person':\n",
    "                color = (0,255, 0)\n",
    "            #Everything else is boxed in yellow  \n",
    "            else:\n",
    "                color = (0, 255, 255)\n",
    "            \n",
    "            top, left, bottom, right = box\n",
    "            cv2.rectangle(img, (left, top), (right, bottom), color, 2)\n",
    "            font = cv2.FONT_HERSHEY_COMPLEX_SMALL\n",
    "            annotation = class_name + ': ' + str(scores[i])\n",
    "            cv2.putText(img, annotation, (left, int(top) - 5), font, 1, color, 1)\n",
    "\n",
    "        # Display annotated image\n",
    "        img_rgb = cv2.cvtColor(img, cv2.COLOR_BGR2RGB)\n",
    "        # Fit image width\n",
    "        fig_size = (img.shape[1] * 16/1200)\n",
    "        # display on 16 figure columns if larger than 1200 px width\n",
    "        fig_size = min(fig_size, 16)\n",
    "        # fir to 8 columns for smaller width images\n",
    "        fig_size = max(fig_size, 8)\n",
    "        plt.figure(figsize = (fig_size, fig_size))\n",
    "        plt.imshow(img_rgb)\n",
    "        plt.show()\n",
    "        \n",
    "    # Detect and Annotate\n",
    "    def run_cars(self, filename):\n",
    "        # Feed image\n",
    "        boxes, scores, classes = self.feed(filename, class_filter = ['car'])\n",
    "        # Annotate image\n",
    "        self.annotate_image(filename, boxes, scores, classes)\n",
    "        "
   ]
  },
  {
   "cell_type": "code",
   "execution_count": 7,
   "metadata": {},
   "outputs": [
    {
     "name": "stderr",
     "output_type": "stream",
     "text": [
      "/anaconda/anaconda3/lib/python3.6/site-packages/keras/models.py:282: UserWarning: No training configuration found in save file: the model was *not* compiled. Compile it manually.\n",
      "  warnings.warn('No training configuration found in save file: '\n"
     ]
    }
   ],
   "source": [
    "# Create detector object\n",
    "detector = Detector(model_path, classes_path, anchors_path)\n",
    "# detector.model.summary()"
   ]
  },
  {
   "cell_type": "code",
   "execution_count": 20,
   "metadata": {},
   "outputs": [
    {
     "data": {
      "image/png": "[encoded data removed]",
      "text/plain": [
       "<matplotlib.figure.Figure at 0x18266bc780>"
      ]
     },
     "metadata": {},
     "output_type": "display_data"
    }
   ],
   "source": [
    "# Feed image:\n",
    "filename = 'images/flirT.jpg'\n",
    "boxes, scores, classes = detector.feed(filename, class_filter = [])\n",
    "# Annotate image:\n",
    "detector.annotate_image(filename, boxes, scores, classes)"
   ]
  },
  {
   "cell_type": "code",
   "execution_count": null,
   "metadata": {},
   "outputs": [],
   "source": []
  },
  {
   "cell_type": "code",
   "execution_count": null,
   "metadata": {},
   "outputs": [],
   "source": []
  },
  {
   "cell_type": "code",
   "execution_count": null,
   "metadata": {},
   "outputs": [],
   "source": [
    "# sess.close()"
   ]
  }
 ],
 "metadata": {
  "kernelspec": {
   "display_name": "Python 3",
   "language": "python",
   "name": "python3"
  },
  "language_info": {
   "codemirror_mode": {
    "name": "ipython",
    "version": 3
   },
   "file_extension": ".py",
   "mimetype": "text/x-python",
   "name": "python",
   "nbconvert_exporter": "python",
   "pygments_lexer": "ipython3",
   "version": "3.6.4"
  }
 },
 "nbformat": 4,
 "nbformat_minor": 2
}
